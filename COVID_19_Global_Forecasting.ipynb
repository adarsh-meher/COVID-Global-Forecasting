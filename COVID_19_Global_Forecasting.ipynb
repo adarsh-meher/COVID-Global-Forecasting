{
  "nbformat": 4,
  "nbformat_minor": 0,
  "metadata": {
    "colab": {
      "name": "COVID-19 Global Forecasting.ipynb",
      "provenance": [],
      "collapsed_sections": [],
      "authorship_tag": "ABX9TyOVk3o0c8C7yd9xa41lcaoI",
      "include_colab_link": true
    },
    "kernelspec": {
      "name": "python3",
      "display_name": "Python 3"
    },
    "accelerator": "GPU"
  },
  "cells": [
    {
      "cell_type": "markdown",
      "metadata": {
        "id": "view-in-github",
        "colab_type": "text"
      },
      "source": [
        "<a href=\"https://colab.research.google.com/github/adarsh-meher/COVID-Global-Forecasting/blob/master/COVID_19_Global_Forecasting.ipynb\" target=\"_parent\"><img src=\"https://colab.research.google.com/assets/colab-badge.svg\" alt=\"Open In Colab\"/></a>"
      ]
    },
    {
      "cell_type": "code",
      "metadata": {
        "id": "1LTmYdrbigeZ",
        "colab_type": "code",
        "colab": {
          "base_uri": "https://localhost:8080/",
          "height": 35
        },
        "outputId": "10014e99-ad05-41d5-d961-6685836e9c70"
      },
      "source": [
        "#import shutil\n",
        "#shutil.rmtree(os.getcwd())\n",
        "!git clone https://github.com/adarsh-meher/COVID-Global-Forecasting.git\n",
        "import os\n",
        "os.chdir('/content/COVID-Global-Forecasting/')"
      ],
      "execution_count": 123,
      "outputs": [
        {
          "output_type": "stream",
          "text": [
            "fatal: destination path 'COVID-Global-Forecasting' already exists and is not an empty directory.\n"
          ],
          "name": "stdout"
        }
      ]
    },
    {
      "cell_type": "code",
      "metadata": {
        "id": "oJblCFyBjCAT",
        "colab_type": "code",
        "colab": {
          "base_uri": "https://localhost:8080/",
          "height": 827
        },
        "outputId": "46111455-ee7f-4211-f286-c2e479fce643"
      },
      "source": [
        "#!python -m pip install \"dask[complete]\" \n",
        "!pip install pyflux\n",
        "!pip install pydlm\n",
        "!pip install tensorflow_probability\n",
        "!pip install fbprophet"
      ],
      "execution_count": 124,
      "outputs": [
        {
          "output_type": "stream",
          "text": [
            "Requirement already satisfied: pyflux in /usr/local/lib/python3.6/dist-packages (0.4.15)\n",
            "Requirement already satisfied: scipy in /usr/local/lib/python3.6/dist-packages (from pyflux) (1.4.1)\n",
            "Requirement already satisfied: numpy in /usr/local/lib/python3.6/dist-packages (from pyflux) (1.18.2)\n",
            "Requirement already satisfied: pandas in /usr/local/lib/python3.6/dist-packages (from pyflux) (0.25.3)\n",
            "Requirement already satisfied: patsy in /usr/local/lib/python3.6/dist-packages (from pyflux) (0.5.1)\n",
            "Requirement already satisfied: numdifftools in /usr/local/lib/python3.6/dist-packages (from pyflux) (0.9.39)\n",
            "Requirement already satisfied: pytz>=2017.2 in /usr/local/lib/python3.6/dist-packages (from pandas->pyflux) (2018.9)\n",
            "Requirement already satisfied: python-dateutil>=2.6.1 in /usr/local/lib/python3.6/dist-packages (from pandas->pyflux) (2.8.1)\n",
            "Requirement already satisfied: six in /usr/local/lib/python3.6/dist-packages (from patsy->pyflux) (1.12.0)\n",
            "Requirement already satisfied: pydlm in /usr/local/lib/python3.6/dist-packages (0.1.1.11)\n",
            "Requirement already satisfied: matplotlib in /usr/local/lib/python3.6/dist-packages (from pydlm) (3.2.1)\n",
            "Requirement already satisfied: numpy in /usr/local/lib/python3.6/dist-packages (from pydlm) (1.18.2)\n",
            "Requirement already satisfied: python-dateutil>=2.1 in /usr/local/lib/python3.6/dist-packages (from matplotlib->pydlm) (2.8.1)\n",
            "Requirement already satisfied: pyparsing!=2.0.4,!=2.1.2,!=2.1.6,>=2.0.1 in /usr/local/lib/python3.6/dist-packages (from matplotlib->pydlm) (2.4.6)\n",
            "Requirement already satisfied: kiwisolver>=1.0.1 in /usr/local/lib/python3.6/dist-packages (from matplotlib->pydlm) (1.1.0)\n",
            "Requirement already satisfied: cycler>=0.10 in /usr/local/lib/python3.6/dist-packages (from matplotlib->pydlm) (0.10.0)\n",
            "Requirement already satisfied: six>=1.5 in /usr/local/lib/python3.6/dist-packages (from python-dateutil>=2.1->matplotlib->pydlm) (1.12.0)\n",
            "Requirement already satisfied: setuptools in /usr/local/lib/python3.6/dist-packages (from kiwisolver>=1.0.1->matplotlib->pydlm) (46.0.0)\n",
            "Requirement already satisfied: tensorflow_probability in /tensorflow-1.15.0/python3.6 (0.7.0)\n",
            "Requirement already satisfied: cloudpickle>=0.6.1 in /usr/local/lib/python3.6/dist-packages (from tensorflow_probability) (1.3.0)\n",
            "Requirement already satisfied: six>=1.10.0 in /usr/local/lib/python3.6/dist-packages (from tensorflow_probability) (1.12.0)\n",
            "Requirement already satisfied: decorator in /usr/local/lib/python3.6/dist-packages (from tensorflow_probability) (4.4.2)\n",
            "Requirement already satisfied: numpy>=1.13.3 in /usr/local/lib/python3.6/dist-packages (from tensorflow_probability) (1.18.2)\n",
            "Requirement already satisfied: fbprophet in /usr/local/lib/python3.6/dist-packages (0.6)\n",
            "Requirement already satisfied: Cython>=0.22 in /usr/local/lib/python3.6/dist-packages (from fbprophet) (0.29.15)\n",
            "Requirement already satisfied: cmdstanpy==0.4 in /usr/local/lib/python3.6/dist-packages (from fbprophet) (0.4.0)\n",
            "Requirement already satisfied: pystan>=2.14 in /usr/local/lib/python3.6/dist-packages (from fbprophet) (2.19.1.1)\n",
            "Requirement already satisfied: numpy>=1.10.0 in /usr/local/lib/python3.6/dist-packages (from fbprophet) (1.18.2)\n",
            "Requirement already satisfied: pandas>=0.23.4 in /usr/local/lib/python3.6/dist-packages (from fbprophet) (0.25.3)\n",
            "Requirement already satisfied: matplotlib>=2.0.0 in /usr/local/lib/python3.6/dist-packages (from fbprophet) (3.2.1)\n",
            "Requirement already satisfied: LunarCalendar>=0.0.9 in /usr/local/lib/python3.6/dist-packages (from fbprophet) (0.0.9)\n",
            "Requirement already satisfied: convertdate>=2.1.2 in /usr/local/lib/python3.6/dist-packages (from fbprophet) (2.2.0)\n",
            "Requirement already satisfied: holidays>=0.9.5 in /usr/local/lib/python3.6/dist-packages (from fbprophet) (0.9.12)\n",
            "Requirement already satisfied: setuptools-git>=1.2 in /usr/local/lib/python3.6/dist-packages (from fbprophet) (1.2)\n",
            "Requirement already satisfied: python-dateutil>=2.8.0 in /usr/local/lib/python3.6/dist-packages (from fbprophet) (2.8.1)\n",
            "Requirement already satisfied: pytz>=2017.2 in /usr/local/lib/python3.6/dist-packages (from pandas>=0.23.4->fbprophet) (2018.9)\n",
            "Requirement already satisfied: pyparsing!=2.0.4,!=2.1.2,!=2.1.6,>=2.0.1 in /usr/local/lib/python3.6/dist-packages (from matplotlib>=2.0.0->fbprophet) (2.4.6)\n",
            "Requirement already satisfied: kiwisolver>=1.0.1 in /usr/local/lib/python3.6/dist-packages (from matplotlib>=2.0.0->fbprophet) (1.1.0)\n",
            "Requirement already satisfied: cycler>=0.10 in /usr/local/lib/python3.6/dist-packages (from matplotlib>=2.0.0->fbprophet) (0.10.0)\n",
            "Requirement already satisfied: ephem>=3.7.5.3 in /usr/local/lib/python3.6/dist-packages (from LunarCalendar>=0.0.9->fbprophet) (3.7.7.1)\n",
            "Requirement already satisfied: pymeeus<=1,>=0.3.6 in /usr/local/lib/python3.6/dist-packages (from convertdate>=2.1.2->fbprophet) (0.3.7)\n",
            "Requirement already satisfied: six in /usr/local/lib/python3.6/dist-packages (from holidays>=0.9.5->fbprophet) (1.12.0)\n",
            "Requirement already satisfied: setuptools in /usr/local/lib/python3.6/dist-packages (from kiwisolver>=1.0.1->matplotlib>=2.0.0->fbprophet) (46.0.0)\n"
          ],
          "name": "stdout"
        }
      ]
    },
    {
      "cell_type": "code",
      "metadata": {
        "id": "I7MDGIiNjDW-",
        "colab_type": "code",
        "colab": {}
      },
      "source": [
        "import pandas as pd\n",
        "import numpy as np\n",
        "import tensorflow_probability as tfp\n",
        "from fbprophet import Prophet\n",
        "from pydlm import dlm, trend, seasonality\n",
        "import pyflux as pf\n",
        "from datetime import datetime as dt\n",
        "import matplotlib.pyplot as plt\n",
        "import seaborn as sb"
      ],
      "execution_count": 0,
      "outputs": []
    },
    {
      "cell_type": "code",
      "metadata": {
        "id": "7u0PEMmRjDTe",
        "colab_type": "code",
        "colab": {}
      },
      "source": [
        "train = pd.read_csv('train.csv')\n",
        "test = pd.read_csv('test.csv')"
      ],
      "execution_count": 0,
      "outputs": []
    },
    {
      "cell_type": "code",
      "metadata": {
        "id": "YcN8g02W7Pec",
        "colab_type": "code",
        "colab": {}
      },
      "source": [
        "train['Date'] = train['Date'].map(lambda x: dt.strptime(x,\"%m/%d/%Y\"))\n",
        "test['Date'] = test['Date'].map(lambda x: dt.strptime(x,\"%Y-%m-%d\"))"
      ],
      "execution_count": 0,
      "outputs": []
    },
    {
      "cell_type": "code",
      "metadata": {
        "id": "zsnZM2Mb2tEK",
        "colab_type": "code",
        "colab": {
          "base_uri": "https://localhost:8080/",
          "height": 90
        },
        "outputId": "678152d9-9f53-4325-e93f-9205a530808c"
      },
      "source": [
        "print('Starting date Train : %s' % (train['Date'].min()))\n",
        "print('End date Train: %s' % (train['Date'].max()))\n",
        "print('Starting date Test : %s' % (test['Date'].min()))\n",
        "print('End date Test: %s' % (test['Date'].max()))"
      ],
      "execution_count": 128,
      "outputs": [
        {
          "output_type": "stream",
          "text": [
            "Starting date Train : 2020-01-22 00:00:00\n",
            "End date Train: 2020-03-24 00:00:00\n",
            "Starting date Test : 2020-03-12 00:00:00\n",
            "End date Test: 2020-04-23 00:00:00\n"
          ],
          "name": "stdout"
        }
      ]
    },
    {
      "cell_type": "code",
      "metadata": {
        "id": "9ZWW86XEjDPa",
        "colab_type": "code",
        "colab": {}
      },
      "source": [
        "#### Splitting train data into train and validation. validation will contain data from 12-03-2020 till 23-04-2020.\n",
        "train_date_range = pd.date_range(start = '2020-01-22',end = '2020-03-11',freq = 'D')\n",
        "val_date_range = pd.date_range(start = '2020-03-12',end = '2020-03-25',freq = 'D')\n",
        "test_date_range = pd.date_range(start = '2020-03-26',end = '2020-04-23',freq = 'D')\n",
        "\n",
        "train_data = train[train['Date'].isin(train_date_range)]\n",
        "val_data = train[train['Date'].isin(val_date_range)]\n",
        "test_data = test[test['Date'].isin(test_date_range)]"
      ],
      "execution_count": 0,
      "outputs": []
    },
    {
      "cell_type": "code",
      "metadata": {
        "id": "NiIwCGTEHz8E",
        "colab_type": "code",
        "colab": {}
      },
      "source": [
        ""
      ],
      "execution_count": 0,
      "outputs": []
    },
    {
      "cell_type": "code",
      "metadata": {
        "id": "vkfPgwqNjDM7",
        "colab_type": "code",
        "colab": {
          "base_uri": "https://localhost:8080/",
          "height": 256
        },
        "outputId": "65a8ae97-f1b2-45c9-e683-0ec4e8ef87f6"
      },
      "source": [
        "train_data.info()\n",
        "#### Nulls in Province/State. No nulls in any cols"
      ],
      "execution_count": 130,
      "outputs": [
        {
          "output_type": "stream",
          "text": [
            "<class 'pandas.core.frame.DataFrame'>\n",
            "Int64Index: 14200 entries, 0 to 17878\n",
            "Data columns (total 8 columns):\n",
            "Id                14200 non-null int64\n",
            "Province/State    6500 non-null object\n",
            "Country/Region    14200 non-null object\n",
            "Lat               14200 non-null float64\n",
            "Long              14200 non-null float64\n",
            "Date              14200 non-null datetime64[ns]\n",
            "ConfirmedCases    14200 non-null int64\n",
            "Fatalities        14200 non-null int64\n",
            "dtypes: datetime64[ns](1), float64(2), int64(3), object(2)\n",
            "memory usage: 998.4+ KB\n"
          ],
          "name": "stdout"
        }
      ]
    },
    {
      "cell_type": "code",
      "metadata": {
        "id": "AJDejzo9jDJa",
        "colab_type": "code",
        "colab": {}
      },
      "source": [
        "#### Number of provinces in each country\n",
        "\n",
        "grps = train_data.groupby(['Country/Region'])\n",
        "cnt_states = pd.DataFrame(columns = ['Country','Num States'],index=range(train_data['Country/Region'].nunique()))\n",
        "k = 0\n",
        "for name,grp in grps:\n",
        "  t1 = pd.DataFrame(grp['Province/State'])\n",
        "  cnt_states.loc[k,'Country'] = name\n",
        "  cnt_states.loc[k,'Num States'] = int(t1[~pd.isna(t1['Province/State'])].nunique()) if len(t1[~pd.isna(t1['Province/State'])].nunique())!=0 else 0\n",
        "  k += 1\n",
        "\n",
        "cnt_states.sort_values(by = 'Num States',ascending = False,inplace = True)  "
      ],
      "execution_count": 0,
      "outputs": []
    },
    {
      "cell_type": "code",
      "metadata": {
        "id": "k4PTRatJjDGF",
        "colab_type": "code",
        "colab": {}
      },
      "source": [
        "country_with_states = cnt_states[cnt_states['Num States']>0]['Country'].tolist()\n",
        "#### Countries with some states provided:  ['US','China','Canada','Australia','France','United Kingdom','Netherlands','Denmark','Cruise Ship']"
      ],
      "execution_count": 0,
      "outputs": []
    },
    {
      "cell_type": "code",
      "metadata": {
        "id": "3e3jLGKDjDCw",
        "colab_type": "code",
        "colab": {}
      },
      "source": [
        "#### Countries with zero confirmed/fatal cases\n",
        "def extract_cnt_with_zero_cases(data):\n",
        "  def extract_info(x):\n",
        "    x2 = pd.DataFrame({'Total Confirmed cases' : x['ConfirmedCases'].sum(),\n",
        "                                'Total fatalities cases' : x['Fatalities'].sum(),\n",
        "                                  'total Confirmed + fatal' : x['ConfirmedCases'].sum()+x['Fatalities'].sum(),\n",
        "                                'Min Confirmed' : x['ConfirmedCases'].min(),\n",
        "                                'Max Confirmed' : x['ConfirmedCases'].max(),\n",
        "                                'Min fatalities' : x['Fatalities'].min(),\n",
        "                                'Max fatalities' : x['Fatalities'].max()},index = [0])\n",
        "    return x2\n",
        "\n",
        "  df2 = data.groupby(['Country/Region'])[['ConfirmedCases' ,'Fatalities']].apply(lambda x : extract_info(x) )\n",
        "  df2.sort_values(by = ['total Confirmed + fatal'],ascending = True,inplace = True)\n",
        "  return df2"
      ],
      "execution_count": 0,
      "outputs": []
    },
    {
      "cell_type": "code",
      "metadata": {
        "id": "AjmgJBTSjC-D",
        "colab_type": "code",
        "colab": {}
      },
      "source": [
        "df2 = extract_cnt_with_zero_cases(train_data)\n",
        "countries_with_zero_cases = [ i[0] for i in df2[df2['total Confirmed + fatal'] == 0].index.values.tolist() ]"
      ],
      "execution_count": 0,
      "outputs": []
    },
    {
      "cell_type": "code",
      "metadata": {
        "id": "HdQVm4CcjC7e",
        "colab_type": "code",
        "colab": {}
      },
      "source": [
        "countries_no_state = train_data[~train_data['Country/Region'].isin(country_with_states+countries_with_zero_cases)]['Country/Region'].unique().tolist()"
      ],
      "execution_count": 0,
      "outputs": []
    },
    {
      "cell_type": "code",
      "metadata": {
        "id": "UwU0XjkljC4J",
        "colab_type": "code",
        "colab": {}
      },
      "source": [
        "#### Extracting last 10 percetile countries with high total confirmed + fatal cases to assess their trend\n",
        "per_90_cases = np.percentile(df2['total Confirmed + fatal'],q = 90)\n",
        "high_cases_cntry = [ i[0] for i in df2[df2['total Confirmed + fatal']>=per_90_cases].index.values.tolist() ]"
      ],
      "execution_count": 0,
      "outputs": []
    },
    {
      "cell_type": "code",
      "metadata": {
        "id": "rP6qXsbcjC1h",
        "colab_type": "code",
        "colab": {
          "base_uri": "https://localhost:8080/",
          "height": 607
        },
        "outputId": "ee6cd731-ab08-4da9-e32c-0be66e0b1a17"
      },
      "source": [
        "train_data.sort_values(by = ['Country/Region','Province/State','ConfirmedCases','Fatalities'],ascending = True,inplace = True)\n",
        "plt.figure(figsize = (20,10))\n",
        "for c in high_cases_cntry:\n",
        "  df3 = train_data[train_data['Country/Region'] == c].groupby(['Country/Region','Date'])['ConfirmedCases'].apply(lambda x: np.sum(x))\n",
        "  plt.plot(df3.values,label = c)\n",
        "  plt.xlim(0,60)\n",
        "  #plt.ylim(ymin,ymax+1000)\n",
        "  plt.legend(loc = \"upper_left\")\n",
        "\n",
        "plt.grid()\n",
        "plt.title('Plot of Confirmed Cases for top 10 percentile nations')\n",
        "plt.show()"
      ],
      "execution_count": 137,
      "outputs": [
        {
          "output_type": "display_data",
          "data": {
            "image/png": "[encoded data removed]",
            "text/plain": [
              "<Figure size 1440x720 with 1 Axes>"
            ]
          },
          "metadata": {
            "tags": []
          }
        }
      ]
    },
    {
      "cell_type": "code",
      "metadata": {
        "id": "HLn2CjcSjCxf",
        "colab_type": "code",
        "colab": {
          "base_uri": "https://localhost:8080/",
          "height": 607
        },
        "outputId": "a2182d94-8a68-411d-8aec-a14443734b78"
      },
      "source": [
        "plt.figure(figsize = (20,10))\n",
        "for c in high_cases_cntry:\n",
        "  df3 = train_data[train_data['Country/Region'] == c].groupby(['Country/Region','Date'])['Fatalities'].apply(lambda x: np.sum(x))\n",
        "  plt.plot(df3.values,label = c)\n",
        "  plt.xlim(0,60)\n",
        "  #plt.ylim(ymin,ymax+1000)\n",
        "  plt.legend(loc = \"upper_left\")\n",
        "\n",
        "plt.grid()\n",
        "plt.title('Plot of Fatalities for top 10 percentile nations')\n",
        "plt.show()\n",
        "\n",
        "#### Top affected nations : China, Italy, Iran, South Korea"
      ],
      "execution_count": 138,
      "outputs": [
        {
          "output_type": "display_data",
          "data": {
            "image/png": "[encoded data removed]",
            "text/plain": [
              "<Figure size 1440x720 with 1 Axes>"
            ]
          },
          "metadata": {
            "tags": []
          }
        }
      ]
    },
    {
      "cell_type": "code",
      "metadata": {
        "id": "E1MXp730jCt3",
        "colab_type": "code",
        "colab": {}
      },
      "source": [
        "#### Creating date based features\n",
        "\n",
        "def create_time_feats(df):\n",
        "    \"\"\"\n",
        "    Creates time series features from datetime index\n",
        "    \"\"\"\n",
        "    df['hour'] = df['Date'].dt.hour\n",
        "    df['dayofweek'] = df['Date'].dt.dayofweek\n",
        "    df['quarter'] = df['Date'].dt.quarter\n",
        "    df['month'] = df['Date'].dt.month\n",
        "    df['year'] = df['Date'].dt.year\n",
        "    df['dayofyear'] = df['Date'].dt.dayofyear\n",
        "    df['dayofmonth'] = df['Date'].dt.day\n",
        "    df['weekofyear'] = df['Date'].dt.weekofyear\n",
        "    \n",
        "    return df\n",
        "\n",
        "\n",
        "train_data = create_time_feats(train_data)\n",
        "val_data = create_time_feats(val_data)\n",
        "test_data = create_time_feats(test_data)"
      ],
      "execution_count": 0,
      "outputs": []
    },
    {
      "cell_type": "code",
      "metadata": {
        "id": "jtN9pUdtjCqw",
        "colab_type": "code",
        "colab": {}
      },
      "source": [
        "#### Creating lags (1-6) of confirmed cases and fatalities\n",
        "\n",
        "def create_lags(data,cols,min_lag = 1,max_lag = 6):\n",
        "  for c in cols:\n",
        "    for i in range(min_lag,max_lag+1,1):\n",
        "      data[c+'_Lag_'+str(i)] = data[c].shift(i)\n",
        "    \n",
        "  return data\n",
        "\n",
        "#train_data = create_lags(train_data,cols = ['ConfirmedCases','Fatalities'])\n",
        "#val_data = create_lags(train_data,cols = ['ConfirmedCases','Fatalities'])\n",
        "#test_data = create_lags(train_data,cols = ['ConfirmedCases','Fatalities'])"
      ],
      "execution_count": 0,
      "outputs": []
    },
    {
      "cell_type": "code",
      "metadata": {
        "id": "DibnpzjEFivy",
        "colab_type": "code",
        "colab": {}
      },
      "source": [
        "def create_dummy(data,cols):\n",
        "  X = pd.get_dummies(data = data,columns = cols,drop_first=False)\n",
        "  return X"
      ],
      "execution_count": 0,
      "outputs": []
    },
    {
      "cell_type": "code",
      "metadata": {
        "id": "PPYlZcHZFirw",
        "colab_type": "code",
        "colab": {}
      },
      "source": [
        "###### Creating CountVector/TF-IDF of top 5 neighbouring states/regions obtained from lat/long coordinates.\n",
        "from shapely import wkt\n",
        "from shapely import geometry, ops\n",
        "from shapely.geometry import Point\n",
        "from sklearn.feature_extraction.text import CountVectorizer,TfidfVectorizer\n",
        "\n",
        "def extract_neigh_regions_vect(df):\n",
        "\n",
        "  df['Local_Coordinate'] = df.apply(lambda x:Point(x.Lat, x.Long), axis=1)\n",
        "  df.Local_Coordinate = df.Local_Coordinate.astype(str)\n",
        "\n",
        "  df1 = df.groupby(['Country/Region'])['ConfirmedCases'].sum().reset_index()\n",
        "  df  = df.merge(df1, on=['Country/Region'], how='left', suffixes=('', '_country'))\n",
        "  df2 = df.groupby(['Country/Region', 'Local_Coordinate'])['ConfirmedCases'].sum().reset_index()\n",
        "  df  = df.merge(df2, on=['Country/Region', 'Local_Coordinate'], how='left', suffixes=('', '_region'))\n",
        "\n",
        "  df3 = df[[\"Province/State\", \"Country/Region\", 'Local_Coordinate']]\n",
        "  df3 = df3.drop_duplicates()\n",
        "  df3.Local_Coordinate = df3.Local_Coordinate.apply(lambda x:wkt.loads(x))\n",
        "\n",
        "  def process(df, df1):\n",
        "      dist={}\n",
        "      for i, j in df1.iterrows():\n",
        "          dist[str(j[\"Country/Region\"])+'_'+str(j[\"Province/State\"])] = j.Local_Coordinate.distance(df.Local_Coordinate) \n",
        "      df['dist_dict'] = dist\n",
        "      return df\n",
        "\n",
        "\n",
        "  df4 = df3.apply(lambda x:process(x,df3), axis=1)\n",
        "  df4.dist_dict = df4.dist_dict.apply(lambda x:sorted(x.items(), key=lambda x: x[1]))\n",
        "  df4['nearest_country'] = df4.dist_dict.apply(lambda x:[i[0] for i in x[:5]])\n",
        "  df4.nearest_country = df4.nearest_country.apply(lambda x:str(x[0])+' '+str(x[1])+' '+str(x[2])+' '+str(x[3])+' '+str(x[4]))\n",
        "  df5 = df4['nearest_country'].to_string(header=False, index=False).split('\\n')\n",
        "\n",
        "  cv = CountVectorizer()\n",
        "  count_vec = cv.fit_transform(df5)\n",
        "\n",
        "  tfidf = TfidfVectorizer()\n",
        "  tfidf_vec = tfidf.fit_transform(df5)\n",
        "\n",
        "  return df4,count_vec.toarray(),tfidf_vec.toarray()\n",
        "\n"
      ],
      "execution_count": 0,
      "outputs": []
    },
    {
      "cell_type": "code",
      "metadata": {
        "id": "4UDm7TiLFiqD",
        "colab_type": "code",
        "colab": {}
      },
      "source": [
        "#df4,count_vec,tfidf_vec = extract_neigh_regions_vect(train_data)\n",
        "df4.index = range(df4.shape[0])\n",
        "count_vec = pd.concat([df4[['Province/State','Country/Region']],pd.DataFrame(count_vec,columns = [ 'Count_Vec_'+str(i) for i in range(count_vec.shape[1])],index = range(count_vec.shape[0]))],axis = 1)\n",
        "tfidf_vec = pd.concat([df4[['Province/State','Country/Region']],pd.DataFrame(tfidf_vec,columns = [ 'Tfidf_Vec_'+str(i) for i in range(tfidf_vec.shape[1])],index = range(count_vec.shape[0]))],axis = 1)"
      ],
      "execution_count": 0,
      "outputs": []
    },
    {
      "cell_type": "code",
      "metadata": {
        "id": "JbJYaoTMUSX_",
        "colab_type": "code",
        "colab": {}
      },
      "source": [
        ""
      ],
      "execution_count": 0,
      "outputs": []
    },
    {
      "cell_type": "code",
      "metadata": {
        "id": "-iHY-vr8Fil0",
        "colab_type": "code",
        "colab": {}
      },
      "source": [
        "#### Extracting past 3/5/7 day average of percentage change in confirmed cases and fatalities.\n",
        "def extract_per_ch_avg(data,target_col,pct_ch_shift = 1,periods = [3,5,7]):\n",
        "  data[target_col+'_Pct_Ch'] = data[target_col].pct_change(periods=1)\n",
        "  data[target_col+'_Pct_Ch'] = data[target_col+'_Pct_Ch'].replace(np.nan, 0)\n",
        "  data[target_col+'_Pct_Ch'] = data[target_col+'_Pct_Ch'].replace(np.inf, 0)\n",
        "\n",
        "  for i in periods:\n",
        "   data[target_col+'_Pct_Ch_'+str(i)] = data[target_col+'_Pct_Ch'].rolling(window=i).mean()\n",
        "  "
      ],
      "execution_count": 0,
      "outputs": []
    },
    {
      "cell_type": "code",
      "metadata": {
        "id": "OIsO4QXxFikF",
        "colab_type": "code",
        "colab": {
          "base_uri": "https://localhost:8080/",
          "height": 237
        },
        "outputId": "c3541190-03b2-484e-847f-b978cd3d8065"
      },
      "source": [
        "train_data.Fatalities.pct_change(periods=1)"
      ],
      "execution_count": 204,
      "outputs": [
        {
          "output_type": "execute_result",
          "data": {
            "text/plain": [
              "0       NaN\n",
              "1       NaN\n",
              "2       NaN\n",
              "3       NaN\n",
              "4       NaN\n",
              "         ..\n",
              "17874   NaN\n",
              "17875   NaN\n",
              "17876   NaN\n",
              "17877   NaN\n",
              "17878   NaN\n",
              "Name: Fatalities, Length: 14200, dtype: float64"
            ]
          },
          "metadata": {
            "tags": []
          },
          "execution_count": 204
        }
      ]
    },
    {
      "cell_type": "code",
      "metadata": {
        "id": "M6zRNWtLFihO",
        "colab_type": "code",
        "colab": {}
      },
      "source": [
        ""
      ],
      "execution_count": 0,
      "outputs": []
    },
    {
      "cell_type": "code",
      "metadata": {
        "id": "l3uNhFppFicV",
        "colab_type": "code",
        "colab": {}
      },
      "source": [
        ""
      ],
      "execution_count": 0,
      "outputs": []
    },
    {
      "cell_type": "markdown",
      "metadata": {
        "id": "TzAXI_GLpMRg",
        "colab_type": "text"
      },
      "source": [
        "# **Modelling Confirmed and Fatal cases**"
      ]
    },
    {
      "cell_type": "code",
      "metadata": {
        "id": "dGELrXS1pL9M",
        "colab_type": "code",
        "colab": {}
      },
      "source": [
        "sub_df = test.drop(['Lat','Long'],axis = 1)\n",
        "sub_df['ConfirmedCases'] = [0]*sub_df.shape[0]\n",
        "sub_df['Fatalities'] = [0]*sub_df.shape[0]"
      ],
      "execution_count": 0,
      "outputs": []
    },
    {
      "cell_type": "code",
      "metadata": {
        "id": "M881SSVTpL73",
        "colab_type": "code",
        "colab": {}
      },
      "source": [
        "def create_train_test_data(train,test,target_col,cols_to_remove = None,cols_to_keep = None):\n",
        "  if cols_to_remove != None:\n",
        "    train = train.drop(cols_to_remove,axis  = 1)\n",
        "    test = test.drop(cols_to_remove,axis  = 1 )\n",
        "  \n",
        "  if cols_to_keep!= None:\n",
        "    cols_to_remove = [ x for x in train.columns if x not in cols_to_keep]\n",
        "    train = train.drop(cols_to_remove,axis  = 1)\n",
        "    test = test.drop(cols_to_remove,axis  = 1 )\n",
        "\n",
        "  train['flag'] = ['train']*train.shape[0]\n",
        "  test['flag'] = ['test']*test.shape[0]\n",
        "  total_data = pd.concat([train,test],axis = 0)\n",
        "  total_new = create_lags(total_data,cols = target_col)\n",
        "  train_new = total_new[total_new['flag'] == 'train'].drop(['flag'],axis = 1)\n",
        "  test_new = total_new[total_new['flag'] == 'test'].drop(['flag'],axis = 1)\n",
        "\n",
        "  return train_new.dropna(),test_new\n",
        "  "
      ],
      "execution_count": 0,
      "outputs": []
    },
    {
      "cell_type": "code",
      "metadata": {
        "id": "3Es5f5KepL6p",
        "colab_type": "code",
        "colab": {
          "base_uri": "https://localhost:8080/",
          "height": 226
        },
        "outputId": "f4d52f23-52f4-4d62-dce3-1f1cfea8a8a5"
      },
      "source": [
        "cols_to_remove = ['Id','Lat','Long']"
      ],
      "execution_count": 202,
      "outputs": [
        {
          "output_type": "execute_result",
          "data": {
            "text/html": [
              "<div>\n",
              "<style scoped>\n",
              "    .dataframe tbody tr th:only-of-type {\n",
              "        vertical-align: middle;\n",
              "    }\n",
              "\n",
              "    .dataframe tbody tr th {\n",
              "        vertical-align: top;\n",
              "    }\n",
              "\n",
              "    .dataframe thead th {\n",
              "        text-align: right;\n",
              "    }\n",
              "</style>\n",
              "<table border=\"1\" class=\"dataframe\">\n",
              "  <thead>\n",
              "    <tr style=\"text-align: right;\">\n",
              "      <th></th>\n",
              "      <th>Id</th>\n",
              "      <th>Province/State</th>\n",
              "      <th>Country/Region</th>\n",
              "      <th>Lat</th>\n",
              "      <th>Long</th>\n",
              "      <th>Date</th>\n",
              "      <th>ConfirmedCases</th>\n",
              "      <th>Fatalities</th>\n",
              "      <th>hour</th>\n",
              "      <th>dayofweek</th>\n",
              "      <th>quarter</th>\n",
              "      <th>month</th>\n",
              "      <th>year</th>\n",
              "      <th>dayofyear</th>\n",
              "      <th>dayofmonth</th>\n",
              "      <th>weekofyear</th>\n",
              "      <th>ConfirmedCases_Lag_1</th>\n",
              "      <th>ConfirmedCases_Lag_2</th>\n",
              "      <th>ConfirmedCases_Lag_3</th>\n",
              "      <th>ConfirmedCases_Lag_4</th>\n",
              "      <th>ConfirmedCases_Lag_5</th>\n",
              "      <th>ConfirmedCases_Lag_6</th>\n",
              "      <th>Fatalities_Lag_1</th>\n",
              "      <th>Fatalities_Lag_2</th>\n",
              "      <th>Fatalities_Lag_3</th>\n",
              "      <th>Fatalities_Lag_4</th>\n",
              "      <th>Fatalities_Lag_5</th>\n",
              "      <th>Fatalities_Lag_6</th>\n",
              "      <th>Local_Coordinate</th>\n",
              "    </tr>\n",
              "  </thead>\n",
              "  <tbody>\n",
              "    <tr>\n",
              "      <th>0</th>\n",
              "      <td>1</td>\n",
              "      <td>NaN</td>\n",
              "      <td>Afghanistan</td>\n",
              "      <td>33.0</td>\n",
              "      <td>65.0</td>\n",
              "      <td>2020-01-22</td>\n",
              "      <td>0</td>\n",
              "      <td>0</td>\n",
              "      <td>0</td>\n",
              "      <td>2</td>\n",
              "      <td>1</td>\n",
              "      <td>1</td>\n",
              "      <td>2020</td>\n",
              "      <td>22</td>\n",
              "      <td>22</td>\n",
              "      <td>4</td>\n",
              "      <td>NaN</td>\n",
              "      <td>NaN</td>\n",
              "      <td>NaN</td>\n",
              "      <td>NaN</td>\n",
              "      <td>NaN</td>\n",
              "      <td>NaN</td>\n",
              "      <td>NaN</td>\n",
              "      <td>NaN</td>\n",
              "      <td>NaN</td>\n",
              "      <td>NaN</td>\n",
              "      <td>NaN</td>\n",
              "      <td>NaN</td>\n",
              "      <td>POINT (33 65)</td>\n",
              "    </tr>\n",
              "    <tr>\n",
              "      <th>1</th>\n",
              "      <td>2</td>\n",
              "      <td>NaN</td>\n",
              "      <td>Afghanistan</td>\n",
              "      <td>33.0</td>\n",
              "      <td>65.0</td>\n",
              "      <td>2020-01-23</td>\n",
              "      <td>0</td>\n",
              "      <td>0</td>\n",
              "      <td>0</td>\n",
              "      <td>3</td>\n",
              "      <td>1</td>\n",
              "      <td>1</td>\n",
              "      <td>2020</td>\n",
              "      <td>23</td>\n",
              "      <td>23</td>\n",
              "      <td>4</td>\n",
              "      <td>0.0</td>\n",
              "      <td>NaN</td>\n",
              "      <td>NaN</td>\n",
              "      <td>NaN</td>\n",
              "      <td>NaN</td>\n",
              "      <td>NaN</td>\n",
              "      <td>0.0</td>\n",
              "      <td>NaN</td>\n",
              "      <td>NaN</td>\n",
              "      <td>NaN</td>\n",
              "      <td>NaN</td>\n",
              "      <td>NaN</td>\n",
              "      <td>POINT (33 65)</td>\n",
              "    </tr>\n",
              "    <tr>\n",
              "      <th>2</th>\n",
              "      <td>3</td>\n",
              "      <td>NaN</td>\n",
              "      <td>Afghanistan</td>\n",
              "      <td>33.0</td>\n",
              "      <td>65.0</td>\n",
              "      <td>2020-01-24</td>\n",
              "      <td>0</td>\n",
              "      <td>0</td>\n",
              "      <td>0</td>\n",
              "      <td>4</td>\n",
              "      <td>1</td>\n",
              "      <td>1</td>\n",
              "      <td>2020</td>\n",
              "      <td>24</td>\n",
              "      <td>24</td>\n",
              "      <td>4</td>\n",
              "      <td>0.0</td>\n",
              "      <td>0.0</td>\n",
              "      <td>NaN</td>\n",
              "      <td>NaN</td>\n",
              "      <td>NaN</td>\n",
              "      <td>NaN</td>\n",
              "      <td>0.0</td>\n",
              "      <td>0.0</td>\n",
              "      <td>NaN</td>\n",
              "      <td>NaN</td>\n",
              "      <td>NaN</td>\n",
              "      <td>NaN</td>\n",
              "      <td>POINT (33 65)</td>\n",
              "    </tr>\n",
              "    <tr>\n",
              "      <th>3</th>\n",
              "      <td>4</td>\n",
              "      <td>NaN</td>\n",
              "      <td>Afghanistan</td>\n",
              "      <td>33.0</td>\n",
              "      <td>65.0</td>\n",
              "      <td>2020-01-25</td>\n",
              "      <td>0</td>\n",
              "      <td>0</td>\n",
              "      <td>0</td>\n",
              "      <td>5</td>\n",
              "      <td>1</td>\n",
              "      <td>1</td>\n",
              "      <td>2020</td>\n",
              "      <td>25</td>\n",
              "      <td>25</td>\n",
              "      <td>4</td>\n",
              "      <td>0.0</td>\n",
              "      <td>0.0</td>\n",
              "      <td>0.0</td>\n",
              "      <td>NaN</td>\n",
              "      <td>NaN</td>\n",
              "      <td>NaN</td>\n",
              "      <td>0.0</td>\n",
              "      <td>0.0</td>\n",
              "      <td>0.0</td>\n",
              "      <td>NaN</td>\n",
              "      <td>NaN</td>\n",
              "      <td>NaN</td>\n",
              "      <td>POINT (33 65)</td>\n",
              "    </tr>\n",
              "    <tr>\n",
              "      <th>4</th>\n",
              "      <td>5</td>\n",
              "      <td>NaN</td>\n",
              "      <td>Afghanistan</td>\n",
              "      <td>33.0</td>\n",
              "      <td>65.0</td>\n",
              "      <td>2020-01-26</td>\n",
              "      <td>0</td>\n",
              "      <td>0</td>\n",
              "      <td>0</td>\n",
              "      <td>6</td>\n",
              "      <td>1</td>\n",
              "      <td>1</td>\n",
              "      <td>2020</td>\n",
              "      <td>26</td>\n",
              "      <td>26</td>\n",
              "      <td>4</td>\n",
              "      <td>0.0</td>\n",
              "      <td>0.0</td>\n",
              "      <td>0.0</td>\n",
              "      <td>0.0</td>\n",
              "      <td>NaN</td>\n",
              "      <td>NaN</td>\n",
              "      <td>0.0</td>\n",
              "      <td>0.0</td>\n",
              "      <td>0.0</td>\n",
              "      <td>0.0</td>\n",
              "      <td>NaN</td>\n",
              "      <td>NaN</td>\n",
              "      <td>POINT (33 65)</td>\n",
              "    </tr>\n",
              "  </tbody>\n",
              "</table>\n",
              "</div>"
            ],
            "text/plain": [
              "   Id Province/State  ... Fatalities_Lag_6  Local_Coordinate\n",
              "0   1            NaN  ...              NaN     POINT (33 65)\n",
              "1   2            NaN  ...              NaN     POINT (33 65)\n",
              "2   3            NaN  ...              NaN     POINT (33 65)\n",
              "3   4            NaN  ...              NaN     POINT (33 65)\n",
              "4   5            NaN  ...              NaN     POINT (33 65)\n",
              "\n",
              "[5 rows x 29 columns]"
            ]
          },
          "metadata": {
            "tags": []
          },
          "execution_count": 202
        }
      ]
    },
    {
      "cell_type": "code",
      "metadata": {
        "id": "2AlfyGSQpL2r",
        "colab_type": "code",
        "colab": {
          "base_uri": "https://localhost:8080/",
          "height": 35
        },
        "outputId": "2604fea3-4b44-477a-a5ee-713b309dd185"
      },
      "source": [
        "train_data.Local_Coordinate.values[0]"
      ],
      "execution_count": 203,
      "outputs": [
        {
          "output_type": "execute_result",
          "data": {
            "text/plain": [
              "'POINT (33 65)'"
            ]
          },
          "metadata": {
            "tags": []
          },
          "execution_count": 203
        }
      ]
    },
    {
      "cell_type": "code",
      "metadata": {
        "id": "MQK2Zi4OpLzB",
        "colab_type": "code",
        "colab": {}
      },
      "source": [
        ""
      ],
      "execution_count": 0,
      "outputs": []
    },
    {
      "cell_type": "code",
      "metadata": {
        "id": "XC284xkkpLxm",
        "colab_type": "code",
        "colab": {}
      },
      "source": [
        ""
      ],
      "execution_count": 0,
      "outputs": []
    },
    {
      "cell_type": "code",
      "metadata": {
        "id": "w3XjQKDCpLuA",
        "colab_type": "code",
        "colab": {}
      },
      "source": [
        ""
      ],
      "execution_count": 0,
      "outputs": []
    },
    {
      "cell_type": "code",
      "metadata": {
        "id": "1yzTNho0pLsV",
        "colab_type": "code",
        "colab": {}
      },
      "source": [
        ""
      ],
      "execution_count": 0,
      "outputs": []
    },
    {
      "cell_type": "code",
      "metadata": {
        "id": "vppvo7H9pLqx",
        "colab_type": "code",
        "colab": {}
      },
      "source": [
        ""
      ],
      "execution_count": 0,
      "outputs": []
    },
    {
      "cell_type": "code",
      "metadata": {
        "id": "PcbiBIGTpLmQ",
        "colab_type": "code",
        "colab": {}
      },
      "source": [
        ""
      ],
      "execution_count": 0,
      "outputs": []
    },
    {
      "cell_type": "code",
      "metadata": {
        "id": "5dQFGyCDpLeD",
        "colab_type": "code",
        "colab": {}
      },
      "source": [
        ""
      ],
      "execution_count": 0,
      "outputs": []
    },
    {
      "cell_type": "code",
      "metadata": {
        "id": "1L3aCewepLaE",
        "colab_type": "code",
        "colab": {}
      },
      "source": [
        ""
      ],
      "execution_count": 0,
      "outputs": []
    },
    {
      "cell_type": "code",
      "metadata": {
        "id": "IFH-oG_9jCny",
        "colab_type": "code",
        "colab": {}
      },
      "source": [
        ""
      ],
      "execution_count": 0,
      "outputs": []
    },
    {
      "cell_type": "code",
      "metadata": {
        "id": "YlZnsRWNjCki",
        "colab_type": "code",
        "colab": {}
      },
      "source": [
        ""
      ],
      "execution_count": 0,
      "outputs": []
    }
  ]
}